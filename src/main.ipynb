{
 "cells": [
  {
   "cell_type": "markdown",
   "source": [
    "<h1>Coin Counter GUI\n",
    "<p>Using tkinter's Graphical User Interface module, this section will display an interactive window where a user will be able to input how many coins they have in their possession and calculate the converted total"
   ],
   "metadata": {
    "collapsed": false
   }
  },
  {
   "cell_type": "code",
   "execution_count": 1,
   "outputs": [
    {
     "name": "stdout",
     "output_type": "stream",
     "text": [
      "2\n",
      "0\n",
      "0\n",
      "0\n",
      "0\n",
      "0\n",
      "22\n",
      "0\n",
      "0\n",
      "0\n",
      "0\n",
      "0\n",
      "222\n",
      "0\n",
      "0\n",
      "0\n",
      "0\n",
      "0\n",
      "2222\n",
      "0\n",
      "0\n",
      "0\n",
      "0\n",
      "0\n",
      "22222\n",
      "0\n",
      "0\n",
      "0\n",
      "0\n",
      "0\n",
      "22222\n",
      "22\n",
      "0\n",
      "0\n",
      "0\n",
      "0\n",
      "22222\n",
      "2222\n",
      "0\n",
      "0\n",
      "0\n",
      "0\n",
      "22222\n",
      "22222\n",
      "0\n",
      "0\n",
      "0\n",
      "0\n",
      "22222\n",
      "222222\n",
      "0\n",
      "0\n",
      "0\n",
      "0\n",
      "22222\n",
      "2222222\n",
      "0\n",
      "0\n",
      "0\n",
      "0\n",
      "22222\n",
      "2222222\n",
      "2\n",
      "0\n",
      "0\n",
      "0\n",
      "22222\n",
      "2222222\n",
      "222\n",
      "0\n",
      "0\n",
      "0\n",
      "22222\n",
      "2222222\n",
      "22222\n",
      "0\n",
      "0\n",
      "0\n",
      "22222\n",
      "2222222\n",
      "2222222\n",
      "0\n",
      "0\n",
      "0\n",
      "22222\n",
      "2222222\n",
      "2222222\n",
      "33\n",
      "0\n",
      "0\n",
      "22222\n",
      "2222222\n",
      "2222222\n",
      "333\n",
      "0\n",
      "0\n",
      "22222\n",
      "2222222\n",
      "2222222\n",
      "3333\n",
      "0\n",
      "0\n",
      "22222\n",
      "2222222\n",
      "2222222\n",
      "33333\n",
      "0\n",
      "0\n",
      "22222\n",
      "2222222\n",
      "2222222\n",
      "33333\n",
      "3\n",
      "0\n",
      "22222\n",
      "2222222\n",
      "2222222\n",
      "33333\n",
      "33\n",
      "0\n",
      "22222\n",
      "2222222\n",
      "2222222\n",
      "33333\n",
      "333\n",
      "0\n",
      "22222\n",
      "2222222\n",
      "2222222\n",
      "33333\n",
      "3333\n",
      "0\n",
      "22222\n",
      "2222222\n",
      "2222222\n",
      "33333\n",
      "3333\n",
      "33\n",
      "22222\n",
      "2222222\n",
      "2222222\n",
      "33333\n",
      "3333\n",
      "3333\n"
     ]
    }
   ],
   "source": [
    "from coin import Coin\n",
    "\n",
    "coin_app = Coin()\n",
    "coin_app.mainloop()"
   ],
   "metadata": {
    "collapsed": false,
    "ExecuteTime": {
     "start_time": "2023-04-13T20:52:48.074141Z",
     "end_time": "2023-04-13T20:53:24.928154Z"
    }
   }
  },
  {
   "cell_type": "markdown",
   "source": [
    "<h1>Recursive Password Checker\n",
    "<p>Using a recursive function, the user will enter a string of values which will be recursively checked to make sure it meets certain criteria"
   ],
   "metadata": {
    "collapsed": false
   }
  },
  {
   "cell_type": "code",
   "execution_count": 1,
   "outputs": [],
   "source": [],
   "metadata": {
    "collapsed": false,
    "ExecuteTime": {
     "start_time": "2023-04-13T20:53:24.884096Z",
     "end_time": "2023-04-13T20:53:24.942156Z"
    }
   }
  }
 ],
 "metadata": {
  "kernelspec": {
   "display_name": "Python 3",
   "language": "python",
   "name": "python3"
  },
  "language_info": {
   "codemirror_mode": {
    "name": "ipython",
    "version": 2
   },
   "file_extension": ".py",
   "mimetype": "text/x-python",
   "name": "python",
   "nbconvert_exporter": "python",
   "pygments_lexer": "ipython2",
   "version": "2.7.6"
  }
 },
 "nbformat": 4,
 "nbformat_minor": 0
}
