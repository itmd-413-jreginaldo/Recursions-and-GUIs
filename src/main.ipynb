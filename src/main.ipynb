{
 "cells": [
  {
   "cell_type": "markdown",
   "source": [
    "<h1>Coin Counter GUI\n",
    "<p>Using tkinter's Graphical User Interface module, this section will display an interactive window where a user will be able to input how many coins they have in their possession and calculate the converted total"
   ],
   "metadata": {
    "collapsed": false
   }
  },
  {
   "cell_type": "code",
   "execution_count": 1,
   "outputs": [],
   "source": [
    "from coin import Coin\n",
    "\n",
    "coin_app = Coin()\n",
    "coin_app.mainloop()"
   ],
   "metadata": {
    "collapsed": false,
    "ExecuteTime": {
     "start_time": "2023-04-14T20:50:16.275787Z",
     "end_time": "2023-04-14T20:51:11.471144Z"
    }
   }
  },
  {
   "cell_type": "markdown",
   "source": [
    "<h1>Recursive Password Checker\n",
    "<p>Using a recursive function, the user will enter a string of values which will be recursively checked to make sure it meets certain criteria"
   ],
   "metadata": {
    "collapsed": false
   }
  },
  {
   "cell_type": "code",
   "execution_count": 1,
   "outputs": [],
   "source": [],
   "metadata": {
    "collapsed": false,
    "ExecuteTime": {
     "start_time": "2023-04-14T20:51:11.429145Z",
     "end_time": "2023-04-14T20:51:11.471144Z"
    }
   }
  }
 ],
 "metadata": {
  "kernelspec": {
   "display_name": "Python 3",
   "language": "python",
   "name": "python3"
  },
  "language_info": {
   "codemirror_mode": {
    "name": "ipython",
    "version": 2
   },
   "file_extension": ".py",
   "mimetype": "text/x-python",
   "name": "python",
   "nbconvert_exporter": "python",
   "pygments_lexer": "ipython2",
   "version": "2.7.6"
  }
 },
 "nbformat": 4,
 "nbformat_minor": 0
}
